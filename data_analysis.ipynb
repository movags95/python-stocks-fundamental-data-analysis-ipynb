{
 "cells": [
  {
   "cell_type": "code",
   "execution_count": 12,
   "metadata": {},
   "outputs": [],
   "source": [
    "import pandas as pd\n",
    "import matplotlib.pyplot as plt\n",
    "import numpy as np\n",
    "from utils import *\n",
    "%matplotlib inline"
   ]
  },
  {
   "cell_type": "markdown",
   "metadata": {},
   "source": [
    "## Select a ticker"
   ]
  },
  {
   "cell_type": "code",
   "execution_count": null,
   "metadata": {},
   "outputs": [],
   "source": [
    "ticker = ['AAPL'] # This ticker must be in a list object\n",
    "\n",
    "fetch_qtrly_data(ticker)\n",
    "fetch_yearly_data(ticker)"
   ]
  },
  {
   "cell_type": "markdown",
   "metadata": {},
   "source": [
    "Please note that if the name in the output does not match what you are searching for, please check the ticker symbol on Yahoo finance."
   ]
  },
  {
   "cell_type": "markdown",
   "metadata": {},
   "source": [
    "## Select quarterly or yearly data to load for visualisation\n",
    "Comment out the appropriate line below"
   ]
  },
  {
   "cell_type": "code",
   "execution_count": null,
   "metadata": {},
   "outputs": [],
   "source": [
    "# financials, cashflow, incomestmt, balancesheet = load_data(ticker[0], quarterly=True)\n",
    "financials, cashflow, incomestmt, balancesheet = load_data(ticker[0])"
   ]
  },
  {
   "cell_type": "markdown",
   "metadata": {},
   "source": [
    "***"
   ]
  },
  {
   "cell_type": "markdown",
   "metadata": {},
   "source": [
    "# Data Visualisation"
   ]
  },
  {
   "cell_type": "markdown",
   "metadata": {},
   "source": [
    "### Revenue\n",
    "Money flowing into a company before any deductions"
   ]
  },
  {
   "cell_type": "code",
   "execution_count": null,
   "metadata": {},
   "outputs": [],
   "source": [
    "revenue = financials['Total Revenue']\n",
    "\n",
    "revenue.plot(kind='bar', title='Revenue',\n",
    "             xlabel='Date', ylabel='$').invert_xaxis()"
   ]
  },
  {
   "cell_type": "markdown",
   "metadata": {},
   "source": [
    "### Operating Income and Gross Profit\n",
    "$Gross Profit=Revenue−Cost of Goods Sold (COGS)$ \n",
    "\n",
    "Gross profit reveals how efficiently a company is using its resources to produce goods or services, before considering other operating expenses such as sales, marketing, and administrative costs.\n",
    "\n",
    "$Operating Income=Gross Profit−Operating Expenses$\n",
    "\n",
    "Operating income gives insight into how well a company's management team is running the business. It indicates whether the company's revenues are sufficient to cover its variable and fixed costs associated with normal operations.\n"
   ]
  },
  {
   "cell_type": "code",
   "execution_count": null,
   "metadata": {},
   "outputs": [],
   "source": [
    "operating_income = financials[['Operating Income', 'Gross Profit']]\n",
    "operating_income.plot.bar(title='Operating Income and Gross Profit',\n",
    "                          xlabel='Date', ylabel='$').invert_xaxis()"
   ]
  },
  {
   "cell_type": "markdown",
   "metadata": {},
   "source": [
    "### Net Income\n",
    "$Net Income=Total Revenue−Total Expenses$\n",
    "\n",
    "It represents the amount of money that remains after deducting all expenses from total revenue. In other words, net income is what's left over for the company after accounting for all costs and expenses, including taxes."
   ]
  },
  {
   "cell_type": "markdown",
   "metadata": {},
   "source": [
    "### Margins\n",
    "Is the percentage of the revenue the company gets to keep after expenses"
   ]
  },
  {
   "cell_type": "code",
   "execution_count": null,
   "metadata": {},
   "outputs": [],
   "source": [
    "financials['Operating Margin'] = (\n",
    "    financials['Operating Income'] / financials['Total Revenue'])*100\n",
    "financials['Gross Margin'] = (\n",
    "    financials['Gross Profit'] / financials['Total Revenue'])*100\n",
    "margins = financials[['Operating Margin', 'Gross Margin']]\n",
    "margins.plot(title='Margins', kind='line', ylabel='%', xlabel='Date')"
   ]
  },
  {
   "cell_type": "markdown",
   "metadata": {},
   "source": [
    "### Expenses\n",
    "Costs incurred by a business or organization in order to generate revenue and operate effectively.\n",
    "\n",
    "This will look at different types of expenses if they are available."
   ]
  },
  {
   "cell_type": "code",
   "execution_count": null,
   "metadata": {},
   "outputs": [],
   "source": [
    "try:\n",
    "    expenses = financials[['Selling And Marketing Expense',\n",
    "                           'General And Administrative Expense', 'Research And Development', 'Interest Expense']]\n",
    "except Exception as e:\n",
    "    print('Unable to retrieve all columns: ', e)\n",
    "    expenses = financials['Total Expenses']\n",
    "\n",
    "expenses.plot(kind='bar', title='Expenses', ylabel='$',\n",
    "              xlabel='Date', stacked=True, legend=True).invert_xaxis()"
   ]
  },
  {
   "cell_type": "markdown",
   "metadata": {},
   "source": [
    "### Cashflow"
   ]
  },
  {
   "cell_type": "code",
   "execution_count": null,
   "metadata": {},
   "outputs": [],
   "source": [
    "cf = cashflow[['Free Cash Flow','Operating Cash Flow', 'Capital Expenditure']]\n",
    "cf.plot(kind='bar', title='Cashflow breakdown', ylabel='$', xlabel='Date').invert_xaxis()\n"
   ]
  },
  {
   "cell_type": "markdown",
   "metadata": {},
   "source": [
    "### Total Debt"
   ]
  },
  {
   "cell_type": "code",
   "execution_count": null,
   "metadata": {},
   "outputs": [],
   "source": [
    "debt = balancesheet['Total Debt']\n",
    "debt.plot(kind='bar', title='Total debt', ylabel='$', xlabel='Date').invert_xaxis()"
   ]
  },
  {
   "cell_type": "markdown",
   "metadata": {},
   "source": [
    "### Total Cash"
   ]
  },
  {
   "cell_type": "code",
   "execution_count": null,
   "metadata": {},
   "outputs": [],
   "source": [
    "cash = balancesheet['Cash And Cash Equivalents']\n",
    "cash.plot(kind='bar', title='Cash', ylabel='$', xlabel='Date').invert_xaxis()"
   ]
  }
 ],
 "metadata": {
  "kernelspec": {
   "display_name": "venv",
   "language": "python",
   "name": "python3"
  },
  "language_info": {
   "codemirror_mode": {
    "name": "ipython",
    "version": 3
   },
   "file_extension": ".py",
   "mimetype": "text/x-python",
   "name": "python",
   "nbconvert_exporter": "python",
   "pygments_lexer": "ipython3",
   "version": "3.10.6"
  }
 },
 "nbformat": 4,
 "nbformat_minor": 2
}
